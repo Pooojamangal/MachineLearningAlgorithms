{
 "cells": [
  {
   "cell_type": "raw",
   "id": "b69f89cf-3edd-4e30-ae4c-0ed60de556ca",
   "metadata": {},
   "source": [
    "Q.2 Objective: Use linear regression to predict the prices of houses based on various features.\n",
    "\n",
    "You are provided with a dataset containing features of houses such as size (in square feet), number of bedrooms, and age of the house (in years), along with their corresponding prices (in thousands of dollars). Your task is to create a linear regression model to predict house prices based on these features, make predictions on test data, and evaluate the model using the R-squared score.\n",
    "\n",
    "Sample Data:\n",
    "\n",
    "| Size (sq ft) | Bedrooms | Age (years) | Price (000s $) |\n",
    "|--------------|----------|-------------|----------------|\n",
    "| 1500         | 3        | 10          | 300            |\n",
    "| 1600         | 3        | 15          | 320            |\n",
    "| 1700         | 3        | 20          | 340            |\n",
    "| 1800         | 4        | 10          | 360            |\n",
    "| 1900         | 4        | 15          | 380            |\n",
    "| 2000         | 4        | 20          | 400            |\n",
    "| 2100         | 5        | 10          | 420            |\n",
    "| 2200         | 5        | 15          | 440            |\n",
    "\n",
    "Note: Make one csv file of this dataset."
   ]
  },
  {
   "cell_type": "code",
   "execution_count": 1,
   "id": "b2e0b638-e169-4473-9640-14994266dd9f",
   "metadata": {},
   "outputs": [],
   "source": [
    "import pandas as pd\n",
    "import numpy as np\n",
    "import matplotlib.pyplot as plt\n",
    "from sklearn import linear_model "
   ]
  },
  {
   "cell_type": "code",
   "execution_count": 3,
   "id": "a843f02c-c3c6-4154-864d-69e0cce66ebc",
   "metadata": {},
   "outputs": [],
   "source": [
    "data = { \n",
    "    'Size(sq ft)':[1500,1600,1700,1800,1900,2000,2100,2200],\n",
    "    'Bedrooms':[3,3,3,4,4,4,5,5],\n",
    "    \"Age (years)\":[10,15,20,10,15,20,10,15],\n",
    "    \"Price\": [300,320,340,360,380,400,420,440]\n",
    "    \n",
    "}\n",
    "df =pd.DataFrame(data)\n",
    "\n",
    "df.to_csv('Bedroom1.csv', index=False)\n"
   ]
  },
  {
   "cell_type": "code",
   "execution_count": 5,
   "id": "2eef6458-ea5f-4638-a002-f515c41d6206",
   "metadata": {},
   "outputs": [
    {
     "name": "stderr",
     "output_type": "stream",
     "text": [
      "<>:1: SyntaxWarning: invalid escape sequence '\\C'\n",
      "<>:1: SyntaxWarning: invalid escape sequence '\\C'\n",
      "C:\\Users\\hp\\AppData\\Local\\Temp\\ipykernel_12024\\2349106594.py:1: SyntaxWarning: invalid escape sequence '\\C'\n",
      "  df=pd.read_csv(\"F:\\Codenera\\DataScience\\ML Scikit-Learn\\\\Bedroom1.csv\")\n"
     ]
    },
    {
     "data": {
      "text/html": [
       "<div>\n",
       "<style scoped>\n",
       "    .dataframe tbody tr th:only-of-type {\n",
       "        vertical-align: middle;\n",
       "    }\n",
       "\n",
       "    .dataframe tbody tr th {\n",
       "        vertical-align: top;\n",
       "    }\n",
       "\n",
       "    .dataframe thead th {\n",
       "        text-align: right;\n",
       "    }\n",
       "</style>\n",
       "<table border=\"1\" class=\"dataframe\">\n",
       "  <thead>\n",
       "    <tr style=\"text-align: right;\">\n",
       "      <th></th>\n",
       "      <th>Size(sq ft)</th>\n",
       "      <th>Bedrooms</th>\n",
       "      <th>Age (years)</th>\n",
       "      <th>Price</th>\n",
       "    </tr>\n",
       "  </thead>\n",
       "  <tbody>\n",
       "    <tr>\n",
       "      <th>0</th>\n",
       "      <td>1500</td>\n",
       "      <td>3</td>\n",
       "      <td>10</td>\n",
       "      <td>300</td>\n",
       "    </tr>\n",
       "    <tr>\n",
       "      <th>1</th>\n",
       "      <td>1600</td>\n",
       "      <td>3</td>\n",
       "      <td>15</td>\n",
       "      <td>320</td>\n",
       "    </tr>\n",
       "    <tr>\n",
       "      <th>2</th>\n",
       "      <td>1700</td>\n",
       "      <td>3</td>\n",
       "      <td>20</td>\n",
       "      <td>340</td>\n",
       "    </tr>\n",
       "    <tr>\n",
       "      <th>3</th>\n",
       "      <td>1800</td>\n",
       "      <td>4</td>\n",
       "      <td>10</td>\n",
       "      <td>360</td>\n",
       "    </tr>\n",
       "    <tr>\n",
       "      <th>4</th>\n",
       "      <td>1900</td>\n",
       "      <td>4</td>\n",
       "      <td>15</td>\n",
       "      <td>380</td>\n",
       "    </tr>\n",
       "    <tr>\n",
       "      <th>5</th>\n",
       "      <td>2000</td>\n",
       "      <td>4</td>\n",
       "      <td>20</td>\n",
       "      <td>400</td>\n",
       "    </tr>\n",
       "    <tr>\n",
       "      <th>6</th>\n",
       "      <td>2100</td>\n",
       "      <td>5</td>\n",
       "      <td>10</td>\n",
       "      <td>420</td>\n",
       "    </tr>\n",
       "    <tr>\n",
       "      <th>7</th>\n",
       "      <td>2200</td>\n",
       "      <td>5</td>\n",
       "      <td>15</td>\n",
       "      <td>440</td>\n",
       "    </tr>\n",
       "  </tbody>\n",
       "</table>\n",
       "</div>"
      ],
      "text/plain": [
       "   Size(sq ft)  Bedrooms  Age (years)  Price\n",
       "0         1500         3           10    300\n",
       "1         1600         3           15    320\n",
       "2         1700         3           20    340\n",
       "3         1800         4           10    360\n",
       "4         1900         4           15    380\n",
       "5         2000         4           20    400\n",
       "6         2100         5           10    420\n",
       "7         2200         5           15    440"
      ]
     },
     "execution_count": 5,
     "metadata": {},
     "output_type": "execute_result"
    }
   ],
   "source": [
    "df=pd.read_csv(\"F:\\Codenera\\DataScience\\ML Scikit-Learn\\\\Bedroom1.csv\")\n",
    "df"
   ]
  },
  {
   "cell_type": "code",
   "execution_count": 7,
   "id": "4833bd51-f091-49b7-b00d-48bc2128e560",
   "metadata": {},
   "outputs": [
    {
     "name": "stderr",
     "output_type": "stream",
     "text": [
      "C:\\Users\\hp\\AppData\\Local\\Programs\\Python\\Python312\\Lib\\site-packages\\sklearn\\base.py:493: UserWarning: X does not have valid feature names, but LinearRegression was fitted with feature names\n",
      "  warnings.warn(\n"
     ]
    },
    {
     "data": {
      "text/plain": [
       "array([309.99993363])"
      ]
     },
     "execution_count": 7,
     "metadata": {},
     "output_type": "execute_result"
    }
   ],
   "source": [
    "reg = linear_model.LinearRegression()\n",
    "reg.fit(df.drop(\"Price\",axis=\"columns\"),df.Price)\n",
    "reg.predict([[1550,3,11]])"
   ]
  },
  {
   "cell_type": "code",
   "execution_count": null,
   "id": "370d0afc-a60e-4eb3-be8e-17f3f83a2029",
   "metadata": {},
   "outputs": [],
   "source": []
  }
 ],
 "metadata": {
  "kernelspec": {
   "display_name": "Python 3 (ipykernel)",
   "language": "python",
   "name": "python3"
  },
  "language_info": {
   "codemirror_mode": {
    "name": "ipython",
    "version": 3
   },
   "file_extension": ".py",
   "mimetype": "text/x-python",
   "name": "python",
   "nbconvert_exporter": "python",
   "pygments_lexer": "ipython3",
   "version": "3.12.3"
  }
 },
 "nbformat": 4,
 "nbformat_minor": 5
}
